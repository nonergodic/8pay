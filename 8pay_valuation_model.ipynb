{
 "cells": [
  {
   "cell_type": "markdown",
   "metadata": {},
   "source": [
    "# 8Pay valuation model"
   ]
  },
  {
   "cell_type": "markdown",
   "metadata": {},
   "source": [
    "### Current Token Setup\n",
    "8pay collects a fee of 1 \\% of all payments made through their system. Half of those fees will go to 8pay and half will be redistributed among all stakers of the 8pay token on e.g. a weekly basis. As such, the 8pay token currently functions as a security token and its value depends entirely on the future cashflow provided by fees via staking, since its additional function of working as a means of exchange is satisfied in a superior fashion by .\n",
    "\n",
    "### Prerequisits\n",
    "To calculate the value of the entire token supply, we have to figure out the transaction volume (number of transactions times average transaction value) which serves as the basis from which fees are taken, along with a discount rate. The discount rate can include a lot of other factors, such as real interest rate (i.e. nominal interest rates minus inflation rate) or risk - and perhaps it should even take the yield curve into consideration.\n",
    "\n",
    "### Modelling\n",
    "The implemented model sums the discounted cashflows over the given time horizon and assumes that after that time horizon has been reached, cashflows remaining constant at the amount of the time horizon crossing. Compounding is done on a \"per period\" basis, with periods being either yearly, quarterly, monthly, or weekly. Rates are adjusted to always yield the specified discount rate on an annual basis. To model the transaction count, I chose a parameterized S-shaped curve (mid, slope, limit) with initial exponential growth that eventually saturates.\n",
    "\n",
    "### Applicability\n",
    "The main issues with this model are of course the uncertainty involved in the entire venture itself, the projection of the number of 8pay transactions and their average value, along with the interest rates that come to bear.\n",
    "\n",
    "### Next Steps\n",
    "This model is mainly intended as a toy model aimed at illustrating the approach that ought to be taken to calculate the fair value of the 8pay token at any point in time, given known data. To get to a better evaluation for investors, one could use this model to generate different scenarios (e.g. small, medium, and large scale adoption), assign probabilities to these scenarios and then do an expected value calculation based on those numbers."
   ]
  },
  {
   "cell_type": "code",
   "execution_count": 1,
   "metadata": {},
   "outputs": [],
   "source": [
    "import scipy.integrate as integrate\n",
    "import numpy\n",
    "import matplotlib.pyplot as plt\n",
    "import ipywidgets as widgets\n",
    "from ipywidgets import interact\n",
    "from IPython.display import Markdown, display\n",
    "def printmd(string):\n",
    "    display(Markdown(string))"
   ]
  },
  {
   "cell_type": "markdown",
   "metadata": {},
   "source": [
    "We use a logistic function for our S-shaped curve, though any curve shape will work and one should look at references classes of other projects to estimate what a reasonable adoption curve might look like."
   ]
  },
  {
   "cell_type": "code",
   "execution_count": 2,
   "metadata": {},
   "outputs": [],
   "source": [
    "logistic = lambda x, x0, k, L: L/(1+numpy.exp(-k*(x-x0)))"
   ]
  },
  {
   "cell_type": "markdown",
   "metadata": {},
   "source": [
    "Integrating the given span of time to find e.g. transaction volume yields more robust results than just doing e.g. linear interpolation."
   ]
  },
  {
   "cell_type": "code",
   "execution_count": 3,
   "metadata": {},
   "outputs": [],
   "source": [
    "average = lambda func, interval: integrate.quad(func, interval[0], interval[1])[0]"
   ]
  },
  {
   "cell_type": "markdown",
   "metadata": {},
   "source": [
    "Back of the envelope calculation on the maximum number of available token transactions on the Ethereum network given its current technological state and the assumption of about 100k gas for a single token transfer."
   ]
  },
  {
   "cell_type": "code",
   "execution_count": 11,
   "metadata": {},
   "outputs": [
    {
     "data": {
      "text/markdown": [
       "**168.192M**"
      ],
      "text/plain": [
       "<IPython.core.display.Markdown object>"
      ]
     },
     "metadata": {},
     "output_type": "display_data"
    }
   ],
   "source": [
    "blockGasLimit = 8000000\n",
    "gasPerTransaction = 100000\n",
    "blocksPerMinute = 4\n",
    "annualMaxTransactions = numpy.floor(blockGasLimit/gasPerTransaction)*blocksPerMinute*60*24*365\n",
    "printmd(f'**{annualMaxTransactions/10**6}M**')"
   ]
  },
  {
   "cell_type": "markdown",
   "metadata": {},
   "source": [
    "Primary function to calculate, sum, and plot the net present value of all future cashflows.\n",
    "\n",
    "Parameters:\n",
    "* timeHorizon: number of years to be calculated - transaction volume past the time horizon is assumed to remain constant in perpetuity\n",
    "* periodsPerYear: length of the staking interval. also determines the effective discount rate.\n",
    "* discountRate: annual discount rate. adjusted by the number of periods per year to get the effective discount rate.\n",
    "* stakerFee: what share of the fees belongs to 8pay token stakers (has a directly proportional effect on the outcome)\n",
    "* mid: middle of the transaction count S-curve - when the exponential growth regime changes into the saturation regime\n",
    "* slope: determines the speed of growth and saturation of the transaction count S-curve\n",
    "* limit: determine the maximum saturation of the transaction count S-curve\n",
    "* avgTransactionValue: average value of an 8pay transaction in USD (also has a directly proportional effect on the overall outcome)"
   ]
  },
  {
   "cell_type": "code",
   "execution_count": 17,
   "metadata": {},
   "outputs": [],
   "source": [
    "def valuation(timeHorizon,\\\n",
    "              periodsPerYear,\\\n",
    "              discountRate,\\\n",
    "              stakerFee,\\\n",
    "              mid,slope,limit,\\\n",
    "              avgTransactionValue,\\\n",
    "             ):\n",
    "    discountRate = numpy.power(1+discountRate/100, 1/periodsPerYear)\n",
    "    stakerFee = stakerFee/100\n",
    "    transactionCount = lambda t: logistic(t, mid, slope, limit)\n",
    "    periodTransactionCount = numpy.zeros(periodsPerYear*timeHorizon)\n",
    "    periodTransactionVolume = numpy.zeros(periodsPerYear*timeHorizon)\n",
    "    periodCashflow = numpy.zeros(periodsPerYear*timeHorizon)\n",
    "    periodDiscounted = numpy.zeros(periodsPerYear*timeHorizon)\n",
    "    timeAxis = numpy.zeros(periodsPerYear*timeHorizon)\n",
    "    for i in range(periodsPerYear*timeHorizon):\n",
    "        timeAxis[i] = i/periodsPerYear\n",
    "        periodTransactionCount[i] = average(transactionCount, [i/periodsPerYear, (i+1)/periodsPerYear])\n",
    "        periodCashflow[i] = periodTransactionCount[i]*avgTransactionValue*stakerFee\n",
    "        periodDiscounted[i] = periodCashflow[i]/numpy.power(discountRate,i+1)\n",
    "        #print(f'time: {timeAxis[i]}, count: {periodTransactionCount[i]}, cashflow: {periodCashflow[i]}, discounted: {periodDiscounted[i]}')\n",
    "    summedDiscounted = int(numpy.round(numpy.sum(periodDiscounted)/1000))\n",
    "    discountedHorizon = int(numpy.round(periodDiscounted[-1]/(discountRate*(discountRate-1)*1000)))\n",
    "    plt.plot(timeAxis, periodTransactionCount, )\n",
    "    plt.xlabel('Years')\n",
    "    plt.ylabel('Annualized Rate')\n",
    "    plt.title('Transaction Rate')\n",
    "    plt.grid(True)\n",
    "    plt.show()\n",
    "    plt.plot(timeAxis, periodCashflow, 'ob', timeAxis, periodDiscounted, '+r')\n",
    "    plt.xlabel('Years')\n",
    "    plt.ylabel('USD')\n",
    "    plt.title('Cashflows (real and discounted)')\n",
    "    plt.grid(True)\n",
    "    plt.show()\n",
    "    print(f'sum of discounted cashflows: $ {summedDiscounted}k')\n",
    "    print(f'sum of horizon: $ {discountedHorizon}k')\n",
    "    printmd(f'total net present value: **$ {summedDiscounted+discountedHorizon}k**')"
   ]
  },
  {
   "cell_type": "code",
   "execution_count": 18,
   "metadata": {
    "scrolled": false
   },
   "outputs": [
    {
     "data": {
      "application/vnd.jupyter.widget-view+json": {
       "model_id": "f39e7f2895434125a19766fe6f46bfee",
       "version_major": 2,
       "version_minor": 0
      },
      "text/plain": [
       "interactive(children=(IntSlider(value=15, continuous_update=False, description='timeHorizon', max=30, min=1), …"
      ]
     },
     "metadata": {},
     "output_type": "display_data"
    },
    {
     "data": {
      "text/plain": [
       "<function __main__.valuation(timeHorizon, periodsPerYear, discountRate, stakerFee, mid, slope, limit, avgTransactionValue)>"
      ]
     },
     "execution_count": 18,
     "metadata": {},
     "output_type": "execute_result"
    }
   ],
   "source": [
    "interact(valuation,\\\n",
    "         timeHorizon = widgets.IntSlider(min=1,max=30,step=1,value=15,continuous_update=False),\\\n",
    "         periodsPerYear = widgets.SelectionSlider(options=[1,4, 12, 52],value=4),\\\n",
    "         discountRate = widgets.FloatSlider(min=0.1,max=25.1,step=0.1,value=5,continuous_update=False),\\\n",
    "         stakerFee = widgets.FloatSlider(min=0.1,max=0.9,step=0.05,value=0.5,continuous_update=False),\\\n",
    "         mid=widgets.FloatSlider(min=0,max=30,step=0.1,value=5,continuous_update=False),\\\n",
    "         slope=widgets.FloatSlider(min=0,max=3,step=0.1,value=1,continuous_update=False),\\\n",
    "         limit=widgets.IntText(value=12000000,continuous_update=False),\\\n",
    "         avgTransactionValue = widgets.IntSlider(min=1,max=30,step=1,value=5,continuous_update=False)\n",
    "        )"
   ]
  },
  {
   "cell_type": "code",
   "execution_count": null,
   "metadata": {},
   "outputs": [],
   "source": []
  }
 ],
 "metadata": {
  "kernelspec": {
   "display_name": "Python 3",
   "language": "python",
   "name": "python3"
  },
  "language_info": {
   "codemirror_mode": {
    "name": "ipython",
    "version": 3
   },
   "file_extension": ".py",
   "mimetype": "text/x-python",
   "name": "python",
   "nbconvert_exporter": "python",
   "pygments_lexer": "ipython3",
   "version": "3.6.7"
  }
 },
 "nbformat": 4,
 "nbformat_minor": 2
}
