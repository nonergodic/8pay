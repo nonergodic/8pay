{
 "cells": [
  {
   "cell_type": "markdown",
   "metadata": {},
   "source": [
    "# 8Pay valuation model\n",
    "\n",
    "### Current Token Setup\n",
    "8pay collects a fee of 1 \\% of all payments made through their system. Half of those fees will go to 8pay and half will be redistributed among all stakers of the 8pay token on e.g. a weekly basis. As such, the 8pay token currently functions as a security token and its value depends entirely on the future cashflow provided by fees via staking, since its additional function of working as a means of exchange is satisfied in a superior fashion by stable coins such as TUSD or USDC.\n",
    "\n",
    "### Prerequisits\n",
    "To calculate the value of the entire token supply, we have to figure out the transaction volume (number of transactions times average transaction value) which serves as the basis from which fees are taken, along with a discount rate. The discount rate can include a lot of other factors, such as real interest rate (i.e. nominal interest rates minus inflation rate) or risk - and perhaps it should even take the yield curve into consideration.\n",
    "\n",
    "### Modelling\n",
    "The implemented model sums the discounted cashflows over the given time horizon and assumes that after that time horizon has been reached, cashflows remaining constant at the amount of the time horizon crossing. Compounding is done on a \"per period\" basis, with periods being either yearly, quarterly, monthly, or weekly. Rates are adjusted to always yield the specified discount rate on an annual basis. To model the transaction count, I chose a parameterized S-shaped curve with initial exponential growth that eventually saturates.\n",
    "\n",
    "### Applicability\n",
    "The main issues with this model are of course the uncertainty involved in the entire venture itself, the projection of the number of 8pay transactions and their average value, along with the interest rates that come to bear.\n",
    "\n",
    "### Next Steps\n",
    "This model is mainly intended as a toy model aimed at illustrating the approach that ought to be taken to calculate the fair value of the 8pay token at any point in time, given known data. To get to a better evaluation for investors, one could use this model to generate different scenarios (e.g. small, medium, and large scale adoption), assign probabilities to these scenarios and then do an expected value calculation based on those numbers."
   ]
  },
  {
   "cell_type": "code",
   "execution_count": 3,
   "metadata": {},
   "outputs": [],
   "source": [
    "import scipy.integrate as integrate\n",
    "import numpy\n",
    "import matplotlib.pyplot as plt\n",
    "import ipywidgets as widgets\n",
    "from ipywidgets import interact\n",
    "from IPython.display import Markdown, display\n",
    "def printmd(string):\n",
    "    display(Markdown(string))"
   ]
  },
  {
   "cell_type": "markdown",
   "metadata": {},
   "source": [
    "We use a logistic function (see https://en.wikipedia.org/wiki/Logistic_function ) for our S-shaped curve, though any curve shape will work and one should look at references classes of other projects to estimate what a reasonable adoption curve might look like."
   ]
  },
  {
   "cell_type": "code",
   "execution_count": 26,
   "metadata": {},
   "outputs": [],
   "source": [
    "logistic = lambda t, mid, slope, limit: limit/(1+numpy.exp(-slope*(t-mid)))"
   ]
  },
  {
   "cell_type": "markdown",
   "metadata": {},
   "source": [
    "Integrating the given span of time to find e.g. transaction volume yields more robust results than just doing e.g. linear interpolation."
   ]
  },
  {
   "cell_type": "code",
   "execution_count": 27,
   "metadata": {},
   "outputs": [],
   "source": [
    "average = lambda func, interval: integrate.quad(func, interval[0], interval[1])[0]"
   ]
  },
  {
   "cell_type": "markdown",
   "metadata": {},
   "source": [
    "Primary function to calculate, sum, and plot the net present value of all future cashflows.\n",
    "\n",
    "#### Parameters\n",
    "* timeHorizon: $h$ number of years to be calculated - transaction volume past the time horizon is assumed to remain constant in perpetuity\n",
    "* periodsPerYear: $p$ number of the staking periods per year - e.g. 1 $\\leftrightarrow$ annually, 52 $\\leftrightarrow\n",
    "$ weekly.\n",
    "* discountRate: $d_a$ annual discount rate in \\%; automatically adjusted by the number of periods per year $p$ to get the effective, per period discount rate $d_p$.\n",
    "* stakerFee: $f$ what share of the fees belongs to 8pay token stakers (has a directly proportional effect on the outcome)\n",
    "* mid: $\\tau_m$ middle of the transaction rate S-curve $\\tau$. The time when the exponential growth regime of the curve ends and the saturation regime starts.\n",
    "* slope: $\\tau_s$ determines the speed of growth and saturation of the transaction count S-curve $\\tau$.\n",
    "* limit: $\\tau_l$ determine the upper, annualized transaction limit of the transaction count S-curve $\\tau$.\n",
    "* avgTransactionValue: $\\nu$ average value of an 8pay transaction in USD (currently assumed to be constant and thus also impacts the overall outcome proportionally)\n",
    "\n",
    "#### Model\n",
    "\n",
    "Goal: we are looking for our total discounted cashflow $C$.\n",
    "\n",
    "We calculate the per period discount rate $d_p$ via:\n",
    "$$ d_p = \\sqrt[p]{d_a} $$\n",
    "(For example, a 10 % annual discount rate implies $d_a = 1.1$ and $d_p \\approx 1.0241$)\n",
    "\n",
    "We define our logistic transaction rate function $\\tau(t)$ which yields the annualized rate of transactions at time $t$ via:\n",
    "$$ \\tau(t) := \\frac{\\tau_l}{1+e^{-\\tau_s (t - \\tau_m)}} $$\n",
    "\n",
    "For simplicity's sake, we assume a constant transaction value function $\\nu(t)$ (though as for the transaction rate function, an arbitrary curve could be used):\n",
    "$$ \\nu(t) := \\nu $$\n",
    "\n",
    "Now, we split our $h$ years until the time horizon into $p$ periods each, for a total of $h p$ periods.\n",
    "\n",
    "For every period we calculate the transaction volume $v_i, i \\in \\{1, 2, \\ldots, h p\\}$:\n",
    "$$ v_i = \\int_{\\frac{i-1}{p}}^{\\frac{i}{p}} \\tau(t) \\nu(t) dt $$\n",
    "\n",
    "The cashflow $\\hat{c}_i$ for all stakers for period $i$ is then simply the staker fee $f$ time the transaction volume $v_i$:\n",
    "$$ \\hat{c}_i = f v_i $$\n",
    "\n",
    "And finally, to arrive at the discounted cashflow $c_i$, we discount $\\hat{c}_i$ $i$ times using our per period discount rate $d_p$:\n",
    "$$ c_i = \\frac{\\hat{c}_i}{{d_p}^i} $$\n",
    "\n",
    "Finally, to get our total discounted cashflow before the time horizon $C_{\\leq h}$:\n",
    "$$ C_{\\leq h} = \\sum_{i=1}^{h p} c_i $$\n",
    "\n",
    "To calculate the total discounted cashflow after the time horizon $C_{>h}$, we assume that all future cashflows $\\hat{c}_j, j \\in \\{hp+1, hp+2, \\ldots\\}$ are equal to $\\hat{c}_{hp}$:\n",
    "$$ \\forall j \\in \\{hp+1, hp+2, \\ldots\\}: \\hat{c}_j = \\hat{c}_{hp}$$\n",
    "\n",
    "Thus, all discounted post-horizon cashflows $c_j$ form a geometric series:\n",
    "$$ c_j = \\frac{\\hat{c}_j}{{d_p}^j} = \\frac{\\hat{c}_{hp}}{{d_p}^j} \\quad j \\in \\{hp+1, hp+2, \\ldots \\} $$\n",
    "And hence:\n",
    "$$ C_{>h} = \\sum_{j=hp+1}^\\infty c_j = \\sum_{j=hp+1}^\\infty \\frac{\\hat{c}_{hp}}{{d_p}^j} $$\n",
    "Shifting the index by $hp+1$, we get:\n",
    "$$ C_{>h} = \\sum_{k=0}^\\infty \\frac{\\hat{c}_{hp}}{{d_p}^{hp+1+k}} $$\n",
    "Replacing $\\frac{\\hat{c}_{hp}}{{d_p}^{hp+1+k}}$ with $\\frac{c_{hp}}{{d_p}^{1+k}}$ yields:\n",
    "$$ C_{>h} = \\sum_{k=0}^\\infty \\frac{c_{hp}}{{d_p}^{1+k}} $$\n",
    "Finally, pulling out $\\frac{c_{hp}}{d_p}$ and applying the formula for geometric sums $\\sum_{i=0}^\\infty q = \\frac{1}{1-q}$ completes the simplification:\n",
    "$$ C_{>h} = \\frac{c_{hp}}{d_p} \\sum_{k=0}^\\infty \\frac{1}{{d_p}^k} = \\frac{c_{hp}}{d_p} \\frac{1}{1-\\frac{1}{d_p}} = \\frac{c_{hp}}{d_p-1}$$\n",
    "\n",
    "Total discounted cashflow $C$ is then the sum of both cashflows $C_{\\leq h}$ and $C_{>h}$:\n",
    "$$C = C_{\\leq h} + C_{>h}$$"
   ]
  },
  {
   "cell_type": "code",
   "execution_count": 34,
   "metadata": {},
   "outputs": [],
   "source": [
    "def valuation(timeHorizon,\\\n",
    "              periodsPerYear,\\\n",
    "              discountRate,\\\n",
    "              stakerFee,\\\n",
    "              mid,slope,limit,\\\n",
    "              avgTransactionValue,\\\n",
    "             ):\n",
    "    discountRate = numpy.power(1+discountRate/100, 1/periodsPerYear)\n",
    "    stakerFee = stakerFee/100\n",
    "    transactionCount = lambda t: logistic(t, mid, slope, limit)\n",
    "    transactionValue = lambda t: avgTransactionValue #for now constant\n",
    "    periodTransactionCount = numpy.zeros(periodsPerYear*timeHorizon) #only for plotting\n",
    "    periodTransactionVolume = numpy.zeros(periodsPerYear*timeHorizon)\n",
    "    periodCashflow = numpy.zeros(periodsPerYear*timeHorizon)\n",
    "    periodDiscounted = numpy.zeros(periodsPerYear*timeHorizon)\n",
    "    timeAxis = numpy.zeros(periodsPerYear*timeHorizon)\n",
    "    for i in range(periodsPerYear*timeHorizon):\n",
    "        timeAxis[i] = i/periodsPerYear\n",
    "        periodStartEnd = [i/periodsPerYear, (i+1)/periodsPerYear]\n",
    "        periodTransactionCount[i] = average(transactionCount, periodStartEnd)\n",
    "        periodTransactionVolume[i] = average(lambda t: transactionCount(t)*transactionValue(t), periodStartEnd)\n",
    "        periodCashflow[i] = periodTransactionVolume[i]*stakerFee\n",
    "        periodDiscounted[i] = periodCashflow[i]/numpy.power(discountRate,i+1)\n",
    "        #print(f'time: {timeAxis[i]}, count: {periodTransactionCount[i]}, cashflow: {periodCashflow[i]}, discounted: {periodDiscounted[i]}')\n",
    "    summedDiscounted = int(numpy.round(numpy.sum(periodDiscounted)/1000))*1000\n",
    "    discountedHorizon = int(numpy.round(periodDiscounted[-1]/((discountRate-1)*1000)))*1000\n",
    "    plt.plot(timeAxis, periodTransactionCount, )\n",
    "    plt.xlabel('Years')\n",
    "    plt.ylabel('Annualized Rate')\n",
    "    plt.title('Transaction Rate')\n",
    "    plt.grid(True)\n",
    "    plt.show()\n",
    "    plt.plot(timeAxis, periodCashflow, 'ob', timeAxis, periodDiscounted, '+r')\n",
    "    plt.xlabel('Years')\n",
    "    plt.ylabel('USD')\n",
    "    plt.title('Cashflows (nominal and discounted)')\n",
    "    plt.grid(True)\n",
    "    plt.show()\n",
    "    print('sum of pre-horizon discounted cashflows (C_<=h): $%s' % format(summedDiscounted, ','))\n",
    "    print('sum of post-horizon discounted cashflows (C_>h): $%s' % format(discountedHorizon, ','))\n",
    "    print('total discounted cashflows (C): $%s' % format(summedDiscounted+discountedHorizon, ','))"
   ]
  },
  {
   "cell_type": "code",
   "execution_count": 36,
   "metadata": {},
   "outputs": [
    {
     "data": {
      "application/vnd.jupyter.widget-view+json": {
       "model_id": "2bf03c1088d1495eb29bb48fb0fc3db9",
       "version_major": 2,
       "version_minor": 0
      },
      "text/plain": [
       "interactive(children=(IntSlider(value=15, continuous_update=False, description='timeHorizon', max=30, min=1), …"
      ]
     },
     "metadata": {},
     "output_type": "display_data"
    },
    {
     "data": {
      "text/plain": [
       "<function __main__.valuation(timeHorizon, periodsPerYear, discountRate, stakerFee, mid, slope, limit, avgTransactionValue)>"
      ]
     },
     "execution_count": 36,
     "metadata": {},
     "output_type": "execute_result"
    }
   ],
   "source": [
    "interact(valuation,\\\n",
    "         timeHorizon = widgets.IntSlider(min=1,max=30,step=1,value=15,continuous_update=False),\\\n",
    "         periodsPerYear = widgets.SelectionSlider(options=[1,4, 12, 52],value=4),\\\n",
    "         discountRate = widgets.FloatSlider(min=0,max=50,step=0.5,value=20,continuous_update=False),\\\n",
    "         stakerFee = widgets.FloatSlider(min=0.1,max=0.9,step=0.05,value=0.5,continuous_update=False),\\\n",
    "         mid=widgets.FloatSlider(min=0,max=10,step=0.5,value=5,continuous_update=False),\\\n",
    "         slope=widgets.FloatSlider(min=0,max=3,step=0.1,value=1,continuous_update=False),\\\n",
    "         limit=widgets.IntText(value=1600000000,continuous_update=False),\\\n",
    "         avgTransactionValue = widgets.IntSlider(min=1,max=30,step=1,value=10,continuous_update=False)\n",
    "        )"
   ]
  },
  {
   "cell_type": "markdown",
   "metadata": {},
   "source": [
    "### Putting some numbers on it\n",
    "\n",
    "#### Discount rate\n",
    "\n",
    "According to this dataset (http://people.stern.nyu.edu/adamodar/New_Home_Page/datafile/wacc.htm), the cost of capital - which is, in our model, the discount rate - for both online retail and software businesses, which seem like a relevant comparison, is roughly 10%. In light of the novelty and perceived risk of the blockchain sector, one might double this for estimation.\n",
    "\n",
    "#### Pre-revenue VC valuations\n",
    "\n",
    "All the valuations our model calculates are predicated on the assumption that the project succeeds. But most start-ups do not, and so when valuing a pre-revenue start-up, a venture capitalist cannot do so on the premise of its success; rather, the valuation-given-success has to be discounted for the success rate among the projects the VC invests in. This means dividing the estimated valuation by a significant number, often between 20 and 40.\n",
    "\n",
    "#### Staking percentage\n",
    "\n",
    "Currently, coins with staking or delegation mechanisms tend to have between 20 and 50 percent of their supply staked (e.g. EOS, Cosmos, LTO). We expect this percentage to be noticeably higher for 8pay due to the ease of staking and the directness of the incentive. To put a ballpark number on it, 75% might be a reasonable lower bound. Since the valuation we calculate above with our model is the valuation of the staked supply, and the value of a token is the value of the marginal staked token, we get to divide this number by 0.75 for an estimate of the valuation of the total supply.\n",
    "\n",
    "One might take into account growth of the supply as an additional complication; however, this is mostly of relevance in the first years when the value of transactions is still relatively low and would therefore not change the result drastically. The additional benefit from including this in the calculation doesn't seem worth the complexity.\n",
    "\n",
    "#### Example scenario\n",
    "\n",
    "Netflix currently has annual revenue of about \\\\$16B, which is 1.6B transactions at \\\\$10 each. Setting this as limit, to be reached in about 10 years with the half-way point at 5 years, and the discount rate to 20%, the model returns a value of discounted future cashflows of \\\\$181,535,000. With a 75% staking percentage, that would amount to \\\\$242,047,000 total supply valuation. Divided by 20 for the VC factor, and by 2 once more for selling only 50% of the supply, that would justify a raise of \\\\$6M. Note that this is in itself a highly optimistic scenario, implying a transaction volume of roughly $1B in year two!\n",
    "\n",
    "#### Additional caveat\n",
    "\n",
    "All of this is, naturally, predicated on 8pay's ability to stay relevant for an extended period of time; paying in ERC20 stable tokens on the Ethereum chain is unlikely to be the end state of crypto payments."
   ]
  },
  {
   "cell_type": "code",
   "execution_count": null,
   "metadata": {},
   "outputs": [],
   "source": []
  }
 ],
 "metadata": {
  "kernelspec": {
   "display_name": "Python 3",
   "language": "python",
   "name": "python3"
  },
  "language_info": {
   "codemirror_mode": {
    "name": "ipython",
    "version": 3
   },
   "file_extension": ".py",
   "mimetype": "text/x-python",
   "name": "python",
   "nbconvert_exporter": "python",
   "pygments_lexer": "ipython3",
   "version": "3.7.3"
  }
 },
 "nbformat": 4,
 "nbformat_minor": 2
}
